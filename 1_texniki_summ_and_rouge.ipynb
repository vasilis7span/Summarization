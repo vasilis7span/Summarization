{
  "nbformat": 4,
  "nbformat_minor": 0,
  "metadata": {
    "colab": {
      "provenance": []
    },
    "kernelspec": {
      "name": "python3",
      "display_name": "Python 3"
    },
    "language_info": {
      "name": "python"
    }
  },
  "cells": [
    {
      "cell_type": "code",
      "source": [
        "pip install sentencepiece\n"
      ],
      "metadata": {
        "id": "FoMJ8AnUSQs5"
      },
      "execution_count": null,
      "outputs": []
    },
    {
      "cell_type": "code",
      "source": [
        "pip install rouge-score\n"
      ],
      "metadata": {
        "id": "l2cfgfIGBWwm"
      },
      "execution_count": null,
      "outputs": []
    },
    {
      "cell_type": "code",
      "source": [
        "import os\n",
        "from transformers import pipeline\n",
        "from rouge_score import rouge_scorer"
      ],
      "metadata": {
        "id": "t3d_sH5EP0_Z"
      },
      "execution_count": null,
      "outputs": []
    },
    {
      "cell_type": "code",
      "source": [
        "from google.colab import drive\n",
        "drive.mount('/content/drive')\n",
        "folder='/content/drive/My Drive/DATA2011/'\n",
        "!ls '/content/drive/My Drive/DATA2011/'"
      ],
      "metadata": {
        "colab": {
          "base_uri": "https://localhost:8080/"
        },
        "id": "O2drcI73TE0E",
        "outputId": "bee6d33a-0edc-494f-c60b-501d6a4554c8"
      },
      "execution_count": null,
      "outputs": [
        {
          "output_type": "stream",
          "name": "stdout",
          "text": [
            "Drive already mounted at /content/drive; to attempt to forcibly remount, call drive.mount(\"/content/drive\", force_remount=True).\n",
            "HumSum\tsourceTexts\n"
          ]
        }
      ]
    },
    {
      "cell_type": "code",
      "source": [
        "translation_grk_to_en = pipeline(\"translation_grk_to_en\", model='Helsinki-NLP/opus-mt-grk-en')\n",
        "summarizer = pipeline(\"summarization\", model=\"facebook/bart-large-cnn\")\n",
        "translation_en_to_el = pipeline(\"translation_en_to_el\", model='Helsinki-NLP/opus-mt-en-el')"
      ],
      "metadata": {
        "id": "W-rYxBLUP2iC"
      },
      "execution_count": null,
      "outputs": []
    },
    {
      "cell_type": "code",
      "source": [
        "#split text into smaller chunks\n",
        "def read_and_split_text(file_path, chunk_size=250):\n",
        "    with open(file_path, 'r', encoding='utf-8') as file:\n",
        "        text = file.read()\n",
        "\n",
        "    chunks = []\n",
        "    current_chunk = \"\"\n",
        "    words_count = 0\n",
        "    for line in text.splitlines():\n",
        "        line_words = len(line.split())\n",
        "        if words_count + line_words > chunk_size and current_chunk:\n",
        "            chunks.append(current_chunk)\n",
        "            current_chunk = line + '\\n'\n",
        "            words_count = line_words\n",
        "        else:\n",
        "            current_chunk += line + '\\n'\n",
        "            words_count += line_words\n",
        "    if current_chunk:\n",
        "        chunks.append(current_chunk)\n",
        "    return chunks\n",
        "\n",
        "\n",
        "# Process each chunk through the pipelines\n",
        "def process_chunks(chunks):\n",
        "    translated_chunks = [translation_grk_to_en(chunk)[0]['translation_text'] for chunk in chunks]\n",
        "    summarized_chunks = []\n",
        "    for chunk in translated_chunks:\n",
        "        summarized_chunk = summarizer(chunk, max_length=512, min_length=30, length_penalty=2.0)[0]['summary_text']\n",
        "        summarized_chunks.append(summarized_chunk)\n",
        "    retranslated_chunks = [translation_en_to_el(chunk)[0]['translation_text'] for chunk in summarized_chunks]\n",
        "    return \"\\n\".join(retranslated_chunks)\n",
        "\n",
        "# read golden summaries\n",
        "def read_human_summary(file_path):\n",
        "    with open(file_path, 'r', encoding='utf-8') as file:\n",
        "        return file.read()\n",
        "\n",
        "# process files  and perform ROUGE\n",
        "def process_and_evaluate(folder_path, human_summary_folder):\n",
        "    scorer = rouge_scorer.RougeScorer(['rouge1', 'rouge2', 'rougeL'], use_stemmer=True)\n",
        "    print(f\"Processing files in folder: {folder_path}\")\n",
        "\n",
        "    for filename in os.listdir(folder_path):\n",
        "        if filename.endswith(\".greek\"):\n",
        "            print(f\"Processing file: {filename}\")\n",
        "            input_file_path = os.path.join(folder_path, filename)\n",
        "            human_summary_path = os.path.join(human_summary_folder, filename.replace('.greek', '.ref'))\n",
        "\n",
        "\n",
        "            chunks = read_and_split_text(input_file_path)\n",
        "            machine_summary = process_chunks(chunks)\n",
        "\n",
        "            print(f\"Summarized text for {filename}:\\n{machine_summary}\\n\")\n",
        "\n",
        "\n",
        "            human_summary = read_human_summary(human_summary_path)\n",
        "\n",
        "            # Calculate ROUGE scores\n",
        "            scores = scorer.score(human_summary, machine_summary)\n",
        "\n",
        "            print(f\"ROUGE scores for {filename}:\\n{scores}\\n\")\n",
        "\n",
        "\n",
        "folder_path = folder+'sourceTexts'\n",
        "human_summary_folder = folder+'HumSum'\n",
        "\n",
        "process_and_evaluate(folder_path, human_summary_folder)\n"
      ],
      "metadata": {
        "colab": {
          "base_uri": "https://localhost:8080/"
        },
        "id": "zru_v-e4BfUf",
        "outputId": "d1fd15c7-71ad-4f8a-e73d-054770f17cab"
      },
      "execution_count": null,
      "outputs": [
        {
          "output_type": "stream",
          "name": "stdout",
          "text": [
            "Processing files in folder: /content/drive/My Drive/DATA2011/sourceTexts\n",
            "Processing file: M0014.greek\n"
          ]
        },
        {
          "output_type": "stream",
          "name": "stderr",
          "text": [
            "Your max_length is set to 512, but your input_length is only 157. Since this is a summarization task, where outputs shorter than the input are typically wanted, you might consider decreasing max_length manually, e.g. summarizer('...', max_length=78)\n",
            "Your max_length is set to 512, but your input_length is only 187. Since this is a summarization task, where outputs shorter than the input are typically wanted, you might consider decreasing max_length manually, e.g. summarizer('...', max_length=93)\n",
            "Your max_length is set to 512, but your input_length is only 203. Since this is a summarization task, where outputs shorter than the input are typically wanted, you might consider decreasing max_length manually, e.g. summarizer('...', max_length=101)\n",
            "Your max_length is set to 512, but your input_length is only 174. Since this is a summarization task, where outputs shorter than the input are typically wanted, you might consider decreasing max_length manually, e.g. summarizer('...', max_length=87)\n"
          ]
        },
        {
          "output_type": "stream",
          "name": "stdout",
          "text": [
            "Summarized text for M0014.greek:\n",
            "52 άνθρωποι σκοτώθηκαν και εκατοντάδες τραυματίστηκαν στις 7 Ιουλίου 2005, όταν τέσσερις βομβιστές αυτοκτονίας ανατινάχτηκαν σε τρεις διαφορετικές άμαξες του υπόγειου Λονδίνου και σε ένα λεωφορείο.\n",
            "Κα Νορθ: \"Τρέχουμε το ρίσκο στα τρένα, στους δρόμους κάθε μέρα\" \"Πώς τολμάς να νομίζεις ότι ξέρεις τις ερωτήσεις μας,\" λέει. \"Ξέρω τι συνέβη, θέλω να ξέρω γιατί\"\n",
            "\"Όταν είδα το βίντεο της Αλ Κάιντα, όπου ειπώθηκε ότι η Τζιχάντ πάλευε εναντίον του Ηνωμένου Βασιλείου ανησυχώ από το πόσο εξοικειωμένη ήταν η φωνή μου,\" λέει. \"Οι λέξεις που είπε ήταν παρόμοιες με εκείνες εκείνων που έχουν ακούσει πολλές φορές για το κακό των υπόλοιπων νέων\"\n",
            "Μια αφήγηση των γεγονότων δεν θα είναι αρκετή για κανέναν, λέει η Behnaz Mozakka. \"Αναρωτιέμαι - αν υπάρχει κάτι που πρέπει να κρατηθεί κρυφό, γιατί να αποφευχθεί η δημόσια έρευνα,\" αναφέρει.\n",
            "\n",
            "ROUGE scores for M0014.greek:\n",
            "{'rouge1': Score(precision=0.6, recall=0.6, fmeasure=0.6), 'rouge2': Score(precision=0.25, recall=0.25, fmeasure=0.25), 'rougeL': Score(precision=0.4, recall=0.4, fmeasure=0.4000000000000001)}\n",
            "\n",
            "Processing file: M0020.greek\n"
          ]
        },
        {
          "output_type": "stream",
          "name": "stderr",
          "text": [
            "Your max_length is set to 512, but your input_length is only 138. Since this is a summarization task, where outputs shorter than the input are typically wanted, you might consider decreasing max_length manually, e.g. summarizer('...', max_length=69)\n",
            "Your max_length is set to 512, but your input_length is only 176. Since this is a summarization task, where outputs shorter than the input are typically wanted, you might consider decreasing max_length manually, e.g. summarizer('...', max_length=88)\n",
            "Your max_length is set to 512, but your input_length is only 177. Since this is a summarization task, where outputs shorter than the input are typically wanted, you might consider decreasing max_length manually, e.g. summarizer('...', max_length=88)\n",
            "Your max_length is set to 512, but your input_length is only 79. Since this is a summarization task, where outputs shorter than the input are typically wanted, you might consider decreasing max_length manually, e.g. summarizer('...', max_length=39)\n"
          ]
        },
        {
          "output_type": "stream",
          "name": "stdout",
          "text": [
            "Summarized text for M0020.greek:\n",
            "Η ιρανική κυβέρνηση δήλωσε αρχικά ότι η τοποθεσία του συμβάντος δεν ήταν η πρώτη φορά που τα βρετανικά πλοία είχαν εισέλθει στα ύδατα του Ιράν. Μετά από σχόλια της βρετανικής κυβέρνησης, το Ιράν δήλωσε μια αναθεωρημένη τοποθεσία. \" νέα τοποθεσία που δόθηκε από τους Ιρανούς ήταν εκτός από τα ιρακινά και εντός των ιρανικών χωρικών υδάτων.\n",
            "Το περιστατικό έλαβε χώρα στην περιοχή Ras al-Beesha κοντά στη νότια είσοδο του Κόλπου. \" βρετανική κυβέρνηση ζήτησε την επιστροφή των στρατιωτών. Ο Ιρανός πρέσβης προσκλήθηκε στο Υπουργείο Εξωτερικών.\n",
            "Οκτώ μέλη του Βασιλικού Ναυτικού συνελήφθησαν από ιρανικές δυνάμεις τον Ιούνιο του 2004.\n",
            "Ο Ρέζα Φάκερ, συγγραφέας ο οποίος φέρεται να έχει δεσμούς με τον Πρόεδρο Αχμαντινετζάντ, έγραψε στον Σουμπί Σάντεκ (η εβδομαδιαία εφημερίδα της Επαναστατικής Φρουράς) \"Έχουμε τη δυνατότητα να συλλάβουμε μια καλή ομάδα Γαλάνικων ξανθών αξιωματούχων και να τους ταΐζουμε στους κοκκινωπούς μαχητές μας,\" έγραψε.\n",
            "\n",
            "ROUGE scores for M0020.greek:\n",
            "{'rouge1': Score(precision=0.0, recall=0.0, fmeasure=0.0), 'rouge2': Score(precision=0.0, recall=0.0, fmeasure=0.0), 'rougeL': Score(precision=0.0, recall=0.0, fmeasure=0.0)}\n",
            "\n",
            "Processing file: M0048.greek\n"
          ]
        },
        {
          "output_type": "stream",
          "name": "stderr",
          "text": [
            "Your max_length is set to 512, but your input_length is only 80. Since this is a summarization task, where outputs shorter than the input are typically wanted, you might consider decreasing max_length manually, e.g. summarizer('...', max_length=40)\n",
            "Your max_length is set to 512, but your input_length is only 156. Since this is a summarization task, where outputs shorter than the input are typically wanted, you might consider decreasing max_length manually, e.g. summarizer('...', max_length=78)\n",
            "Your max_length is set to 512, but your input_length is only 130. Since this is a summarization task, where outputs shorter than the input are typically wanted, you might consider decreasing max_length manually, e.g. summarizer('...', max_length=65)\n",
            "Your max_length is set to 512, but your input_length is only 153. Since this is a summarization task, where outputs shorter than the input are typically wanted, you might consider decreasing max_length manually, e.g. summarizer('...', max_length=76)\n"
          ]
        },
        {
          "output_type": "stream",
          "name": "stdout",
          "text": [
            "Summarized text for M0048.greek:\n",
            "Ο Χάρτης καθορίζει χρονοδιάγραμμα και πεδίο εφαρμογής για την επίτευξη συμφωνίας για την κλιματική αλλαγή μετά το 2012. \"Χάρτης Μπαλί\" συμφωνήθηκε και έγινε δεκτός στη Διάσκεψη του ΟΗΕ για την Κλιματική Αλλαγή στο Μπαλί.\n",
            "Ευρωπαϊκή Ένωση έχει καταστήσει σαφές ότι, στο πνεύμα των διαπραγματεύσεων, συμφωνεί με τις προτεινόμενες αλλαγές. \" Αμερική δήλωσε ότι δεν μπορούσαν να δεχτούν τις αλλαγές, δεδομένου ότι θα άλλαζαν σημαντικά την ισορροπία του κειμένου.\n",
            "Η Κίνα κατηγόρησε στη συνέχεια τη Γραμματεία της Διεθνούς Διάσκεψης για την Κλιματική Αλλαγή (UNFCCC), ότι προώθησε εσκεμμένα τη συνεδρίαση της Ολομέλειας.\n",
            "Ορισμένα από τα ζητήματα που είχαν παραμείνει ανοικτά τις προάλλες φαίνεται να έχουν αντιμετωπιστεί προς ικανοποίηση των συμμετεχόντων. \" συζήτηση σχετίζεται με το προοίμιο του κειμένου που αναφέρει ότι απαιτείται περαιτέρω δράση για τον μετριασμό της κλιματικής αλλαγής.\n",
            "\n",
            "ROUGE scores for M0048.greek:\n",
            "{'rouge1': Score(precision=0.5, recall=0.3333333333333333, fmeasure=0.4), 'rouge2': Score(precision=0.0, recall=0.0, fmeasure=0.0), 'rougeL': Score(precision=0.5, recall=0.3333333333333333, fmeasure=0.4)}\n",
            "\n",
            "Processing file: M0056.greek\n"
          ]
        },
        {
          "output_type": "stream",
          "name": "stderr",
          "text": [
            "Your input_length: 461 is bigger than 0.9 * max_length: 512. You might consider increasing your max_length manually, e.g. translator('...', max_length=400)\n",
            "Your input_length: 469 is bigger than 0.9 * max_length: 512. You might consider increasing your max_length manually, e.g. translator('...', max_length=400)\n",
            "Your input_length: 472 is bigger than 0.9 * max_length: 512. You might consider increasing your max_length manually, e.g. translator('...', max_length=400)\n",
            "Your max_length is set to 512, but your input_length is only 155. Since this is a summarization task, where outputs shorter than the input are typically wanted, you might consider decreasing max_length manually, e.g. summarizer('...', max_length=77)\n",
            "Your max_length is set to 512, but your input_length is only 167. Since this is a summarization task, where outputs shorter than the input are typically wanted, you might consider decreasing max_length manually, e.g. summarizer('...', max_length=83)\n",
            "Your max_length is set to 512, but your input_length is only 168. Since this is a summarization task, where outputs shorter than the input are typically wanted, you might consider decreasing max_length manually, e.g. summarizer('...', max_length=84)\n",
            "Your max_length is set to 512, but your input_length is only 138. Since this is a summarization task, where outputs shorter than the input are typically wanted, you might consider decreasing max_length manually, e.g. summarizer('...', max_length=69)\n",
            "Your max_length is set to 512, but your input_length is only 232. Since this is a summarization task, where outputs shorter than the input are typically wanted, you might consider decreasing max_length manually, e.g. summarizer('...', max_length=116)\n",
            "Your max_length is set to 512, but your input_length is only 149. Since this is a summarization task, where outputs shorter than the input are typically wanted, you might consider decreasing max_length manually, e.g. summarizer('...', max_length=74)\n",
            "Your max_length is set to 512, but your input_length is only 129. Since this is a summarization task, where outputs shorter than the input are typically wanted, you might consider decreasing max_length manually, e.g. summarizer('...', max_length=64)\n",
            "Your max_length is set to 512, but your input_length is only 169. Since this is a summarization task, where outputs shorter than the input are typically wanted, you might consider decreasing max_length manually, e.g. summarizer('...', max_length=84)\n",
            "Your max_length is set to 512, but your input_length is only 186. Since this is a summarization task, where outputs shorter than the input are typically wanted, you might consider decreasing max_length manually, e.g. summarizer('...', max_length=93)\n"
          ]
        },
        {
          "output_type": "stream",
          "name": "stdout",
          "text": [
            "Summarized text for M0056.greek:\n",
            "Ο σεισμός της 27ης Φεβρουαρίου και το τσουνάμι που ακολούθησαν κατέστρεψαν εντελώς τον πιο παραθαλάσσιο δρόμο. Το Wikinews έχει επίσης πρόσβαση στα αρχικά σχέδια του νέου Κιόσκι στο Πίχλεμου.\n",
            "Ο σεισμός έγινε το λεγόμενο Σαββατοκύριακο του καλοκαιριού το Σάββατο 27 Φεβρουαρίου 2010 στις 03:34 τοπική ώρα. Λίγες ώρες νωρίτερα, χιλιάδες άνθρωποι είχαν φτάσει στο Πιτσιλέμου. Οι περισσότεροι τουρίστες απομακρύνθηκαν από την πόλη αμέσως μετά το σεισμό.\n",
            "Ο Jorge Nasser βοήθησε τους κατοίκους του Pichilemu να μάθουν τι συνέβη σε άλλες περιοχές που επλήγησαν από τον σεισμό.\n",
            "Παρατήρησε ότι η θάλασσα είχε υποχωρήσει περίπου 500 μέτρα στη μέση του Τσουνάμι.\n",
            "Ένας τοπικός εργάτης, ο Ricardo Vivanco, γνωστός και ως \"El Gordo\" (\"Hondros\"), παραλίγο να σκοτωθεί από το τσουνάμι. Το κύμα τον έσυρε μακριά και τον χτύπησε στον τοίχο του Μπαλκόνι Agustin Ross. Οι φίλοι του τράβηξαν βίντεο και το ανέβασαν στο YouTube.\n",
            "Η Χιλή χτυπήθηκε από δεύτερο σεισμό στις 11 Μαρτίου. Ο σεισμός συνέβη στις 11:39 τοπική ώρα (14:39 UTC) Η Υδρογραφική και Ωκεανογραφική Υπηρεσία του Ναυτικού της Χιλής εξέδωσε προειδοποίηση τσουνάμι.\n",
            "Στις 4 Απριλίου το πρώτο μνημείο χτίστηκε στη μνήμη των θυμάτων του σεισμού και του τσουνάμι. Το μνημείο δημιουργήθηκε από ντόπιους τεχνίτες με βράχους από διάφορες περιοχές του Cardenal Caro. Ο δήμαρχος του Pichilemu, Roberto Cordova, ανακοίνωσε μια \"αναζωογονητική εκστρατεία\" για την προώθηση του σερφ.\n",
            "Από τις 23 Οκτωβρίου, έχουν χτιστεί τέσσερα κόσκι στην παραλία Πιτσίμου, δηλαδή στην παραλία Λας Τεράζας, ενώ άλλα δύο είναι χτισμένα. \"Η κυβέρνηση του Προέδρου Σεμπάστιαν Πινέρα ανησυχεί για την αλιευτική περιοχή, κάνοντας διάφορες ενέργειες για να βοηθήσει τους ανθρώπους εκεί,\" δήλωσε ο κυβερνήτης Ιμπάρα.\n",
            "\"Το Cochayuyo είναι μια τσαπατσούλικη πηγή γεμάτη θρεπτικά συστατικά και μεταλλικά άλατα,\" την οποία πουλάει σε 200 pese (0.41) Ο κ. Mella πρόσθεσε στο Wikinews ένα δείγμα της δουλειάς του ως \"Cochayan King\"\n",
            "\n",
            "ROUGE scores for M0056.greek:\n",
            "{'rouge1': Score(precision=0.175, recall=0.5833333333333334, fmeasure=0.2692307692307692), 'rouge2': Score(precision=0.02564102564102564, recall=0.09090909090909091, fmeasure=0.04), 'rougeL': Score(precision=0.1, recall=0.3333333333333333, fmeasure=0.15384615384615383)}\n",
            "\n",
            "Processing file: M0060.greek\n"
          ]
        },
        {
          "output_type": "stream",
          "name": "stderr",
          "text": [
            "Your max_length is set to 512, but your input_length is only 186. Since this is a summarization task, where outputs shorter than the input are typically wanted, you might consider decreasing max_length manually, e.g. summarizer('...', max_length=93)\n",
            "Your max_length is set to 512, but your input_length is only 140. Since this is a summarization task, where outputs shorter than the input are typically wanted, you might consider decreasing max_length manually, e.g. summarizer('...', max_length=70)\n",
            "Your max_length is set to 512, but your input_length is only 164. Since this is a summarization task, where outputs shorter than the input are typically wanted, you might consider decreasing max_length manually, e.g. summarizer('...', max_length=82)\n",
            "Your max_length is set to 512, but your input_length is only 88. Since this is a summarization task, where outputs shorter than the input are typically wanted, you might consider decreasing max_length manually, e.g. summarizer('...', max_length=44)\n"
          ]
        },
        {
          "output_type": "stream",
          "name": "stdout",
          "text": [
            "Summarized text for M0060.greek:\n",
            "Ένας σεισμός 7 σημείων σάρωσε τις ακτές της Αϊτής νωρίτερα σήμερα στις 21:53 UTC, σύμφωνα με τη Γεωλογική Υπηρεσία των Η.Π.Α. Δεν εκδόθηκε προειδοποίηση τσουνάμι, η οποία έρχεται σε αντίθεση με ορισμένες αναφορές από τα μέσα ενημέρωσης ότι ένα (τσουνάμι) είναι επικείμενη.\n",
            "Μετά τις αρχικές δονήσεις υπήρξαν αρκετές δεκατρείς δονήσεις, οι ισχυρότεροι ήταν 5,9 βαθμοί μεγέθους στο Ρίχτερ. \"Όλοι σοκάρονται και τρέμουν από φόβο,\" δήλωσε ο Χένρι Μπαν, εκπρόσωπος του Υπουργείου Γεωργίας της Αμερικής, ο οποίος επισκέφθηκε την Αϊτή.\n",
            "Η έλλειψη επικοινωνίας καθιστά δύσκολη την αναγνώριση του μεγέθους της καταστροφής. Ο εκπρόσωπος του Υπουργείου Εξωτερικών, Π. Τζ. Κράουλι, δήλωσε ότι το προσωπικό της πρεσβείας των ΗΠΑ ήταν \"πραγματικά στο σκοτάδι\" λόγω των τρεχουσών διακοπών.\n",
            "Η υπουργός Εξωτερικών των ΗΠΑ Χίλαρι Κλίντον υποσχέθηκε ότι η χώρα της θα παράσχει επίσης βοήθεια στους Αϊτινούς.\n",
            "\n",
            "ROUGE scores for M0060.greek:\n",
            "{'rouge1': Score(precision=0.16666666666666666, recall=0.14285714285714285, fmeasure=0.15384615384615383), 'rouge2': Score(precision=0.0, recall=0.0, fmeasure=0.0), 'rougeL': Score(precision=0.16666666666666666, recall=0.14285714285714285, fmeasure=0.15384615384615383)}\n",
            "\n",
            "Processing file: M0064.greek\n"
          ]
        },
        {
          "output_type": "stream",
          "name": "stderr",
          "text": [
            "Your max_length is set to 512, but your input_length is only 190. Since this is a summarization task, where outputs shorter than the input are typically wanted, you might consider decreasing max_length manually, e.g. summarizer('...', max_length=95)\n",
            "Your max_length is set to 512, but your input_length is only 194. Since this is a summarization task, where outputs shorter than the input are typically wanted, you might consider decreasing max_length manually, e.g. summarizer('...', max_length=97)\n",
            "Your max_length is set to 512, but your input_length is only 165. Since this is a summarization task, where outputs shorter than the input are typically wanted, you might consider decreasing max_length manually, e.g. summarizer('...', max_length=82)\n",
            "Your max_length is set to 512, but your input_length is only 220. Since this is a summarization task, where outputs shorter than the input are typically wanted, you might consider decreasing max_length manually, e.g. summarizer('...', max_length=110)\n",
            "Your max_length is set to 512, but your input_length is only 121. Since this is a summarization task, where outputs shorter than the input are typically wanted, you might consider decreasing max_length manually, e.g. summarizer('...', max_length=60)\n"
          ]
        },
        {
          "output_type": "stream",
          "name": "stdout",
          "text": [
            "Summarized text for M0064.greek:\n",
            "Οι αρχές προειδοποιούν ότι, αν και \"απορρίπτονται\" βοήθεια στη χώρα, οι επιζώντες αντιμετωπίζουν τώρα μια αυξανόμενη έλλειψη ασφάλειας. Τουλάχιστον 200.000 άνθρωποι έχουν σκοτωθεί και 1,5 εκατομμύρια έχουν μείνει άστεγοι από τις δονήσεις.\n",
            "Η αστυνομική δύναμη της Αϊτής υποβαθμίστηκε σε μεγάλο βαθμό από την καταστροφή, με εκατοντάδες αστυνομικούς που σκοτώθηκαν ή αγνοήθηκαν.\n",
            "Η UNICEF δεν πιστεύει στην ίδρυση ορφανοτροφείων. 60 ορφανά μεταφέρθηκαν στη Γερμανία, όπου πρόκειται να εγκριθούν.\n",
            "Επικεφαλής της αποστολής Mulet δήλωσε ότι η διαχείριση και η οργάνωση της βοήθειας είναι \"ψεύτικα\" Ωστόσο, είπε ότι πιστεύει ότι η ικανότητα παροχής βοήθειας βελτιώνεται.\n",
            "Ο Πρωθυπουργός της Αϊτής Ζαν-Μαξ Μπέλεριβ χαρακτήρισε τη διαδικασία ανοικοδόμησης ως \"κοσμητικό έργο ανοικοδόμησης\" Ο ΟΗΕ αναφέρει ότι οι διεθνείς δεσμεύσεις χρηματοδότησης και βοήθειας για τη χώρα έχουν υπερβεί, επιπλέον, την αξία των 2 δισεκατομμυρίων δολαρίων ΗΠΑ.\n",
            "\n",
            "ROUGE scores for M0064.greek:\n",
            "{'rouge1': Score(precision=0.0, recall=0.0, fmeasure=0.0), 'rouge2': Score(precision=0.0, recall=0.0, fmeasure=0.0), 'rougeL': Score(precision=0.0, recall=0.0, fmeasure=0.0)}\n",
            "\n",
            "Processing file: M0062.greek\n"
          ]
        },
        {
          "output_type": "stream",
          "name": "stderr",
          "text": [
            "Your input_length: 482 is bigger than 0.9 * max_length: 512. You might consider increasing your max_length manually, e.g. translator('...', max_length=400)\n",
            "Your max_length is set to 512, but your input_length is only 172. Since this is a summarization task, where outputs shorter than the input are typically wanted, you might consider decreasing max_length manually, e.g. summarizer('...', max_length=86)\n",
            "Your max_length is set to 512, but your input_length is only 184. Since this is a summarization task, where outputs shorter than the input are typically wanted, you might consider decreasing max_length manually, e.g. summarizer('...', max_length=92)\n",
            "Your max_length is set to 512, but your input_length is only 158. Since this is a summarization task, where outputs shorter than the input are typically wanted, you might consider decreasing max_length manually, e.g. summarizer('...', max_length=79)\n",
            "Your max_length is set to 512, but your input_length is only 154. Since this is a summarization task, where outputs shorter than the input are typically wanted, you might consider decreasing max_length manually, e.g. summarizer('...', max_length=77)\n",
            "Your max_length is set to 512, but your input_length is only 180. Since this is a summarization task, where outputs shorter than the input are typically wanted, you might consider decreasing max_length manually, e.g. summarizer('...', max_length=90)\n",
            "Your max_length is set to 512, but your input_length is only 152. Since this is a summarization task, where outputs shorter than the input are typically wanted, you might consider decreasing max_length manually, e.g. summarizer('...', max_length=76)\n",
            "Your max_length is set to 512, but your input_length is only 180. Since this is a summarization task, where outputs shorter than the input are typically wanted, you might consider decreasing max_length manually, e.g. summarizer('...', max_length=90)\n"
          ]
        },
        {
          "output_type": "stream",
          "name": "stdout",
          "text": [
            "Summarized text for M0062.greek:\n",
            "Ισχυρός σεισμός 7 βαθμών ροπής (MMS) έπληξε την Αϊτή χθες. Φόβοι έχουν εκφραστεί ότι χιλιάδες άνθρωποι έχουν σκοτωθεί από τις δονήσεις, οι οποίες έχουν γίνει αισθητή μέχρι τη Βενεζουέλα.\n",
            "Ο αρχηγός της ειρηνευτικής αποστολής των Ηνωμένων Εθνών, Αλέν Λε Ρόι, δήλωσε ότι πολλοί άνθρωποι βρίσκονταν στο κτίριο των Ηνωμένων Εθνών όταν αγνοούνταν. \"Την στιγμή που μιλάμε, υπάρχουν ακόμα περισσότερα από 100 άτομα που αγνοούνται κάτω από τα ερείπια,\" ανέφερε.\n",
            "\"Βλέπω σώματα, κραυγές στον κόσμο, είναι καθ' οδόν για πανικό, τραυματίζονται άνθρωποι,\" δήλωσε ο Ραφαέλ Τσεν, υπεύθυνος για την φιλανθρωπική οργάνωση \"Mercy and Sharing\" \"Έχουμε αναφέρει ότι μερικά από τα πιο σημαντικά νοσοκομεία στο Πορτ-ο-Πρενς έχουν υποστεί σοβαρές ζημιές,\" δήλωσε ο Πολ Κονέλι, εκπρόσωπος της Διεθνούς Ομοσπονδίας Ερυθρού Σταυρού και Ερυθρών Ημισέληνων.\n",
            "Ο Πρόεδρος Ρενέ Πρέβαλ λέει ότι οι συνέπειες της καταστροφής ήταν \"απερίσκεπτες\" \"Όλη η πόλη έχει βυθιστεί στο σκοτάδι, χιλιάδες άνθρωποι κάθονται στους δρόμους χωρίς να χρειάζεται να φύγουν\"\n",
            "Ο Παγκόσμιος Οργανισμός (ΠΟΕ), ο οποίος διαθέτει μεγάλο αριθμό προσωπικού στην περιοχή, αναφέρει ότι το επίπεδο της καταστροφής δείχνει ότι πολλοί άνθρωποι έχουν πληγεί. \" διευθύντρια του γραφείου MAGP στη Γενεύη, Charles Vincent, σημείωσε ότι η πρώτη προτεραιότητα είναι να σωθούν ζωές.\n",
            "Ban Ki-moon είπε ότι επιπλέον κεφάλαια αξίας 10 εκατομμυρίων δολαρίων ΗΠΑ θα χρησιμοποιηθούν. Ban είναι σε μεγάλο βαθμό στην Αϊτή όπου 3.000 Βρετανοί άνθρωποι είναι, οι οποίοι διασώθηκαν από τη Βραζιλία.\n",
            "Πολλές χώρες, συμπεριλαμβανομένου του Ηνωμένου Βασιλείου και της Βενεζουέλας, σχεδιάζουν επίσης να στείλουν βοήθεια.\n",
            "\n",
            "ROUGE scores for M0062.greek:\n",
            "{'rouge1': Score(precision=0.0625, recall=0.3333333333333333, fmeasure=0.10526315789473684), 'rouge2': Score(precision=0.0, recall=0.0, fmeasure=0.0), 'rougeL': Score(precision=0.0625, recall=0.3333333333333333, fmeasure=0.10526315789473684)}\n",
            "\n",
            "Processing file: M0067.greek\n"
          ]
        },
        {
          "output_type": "stream",
          "name": "stderr",
          "text": [
            "Your max_length is set to 512, but your input_length is only 163. Since this is a summarization task, where outputs shorter than the input are typically wanted, you might consider decreasing max_length manually, e.g. summarizer('...', max_length=81)\n",
            "Your max_length is set to 512, but your input_length is only 147. Since this is a summarization task, where outputs shorter than the input are typically wanted, you might consider decreasing max_length manually, e.g. summarizer('...', max_length=73)\n",
            "Your max_length is set to 512, but your input_length is only 164. Since this is a summarization task, where outputs shorter than the input are typically wanted, you might consider decreasing max_length manually, e.g. summarizer('...', max_length=82)\n",
            "Your max_length is set to 512, but your input_length is only 202. Since this is a summarization task, where outputs shorter than the input are typically wanted, you might consider decreasing max_length manually, e.g. summarizer('...', max_length=101)\n"
          ]
        },
        {
          "output_type": "stream",
          "name": "stdout",
          "text": [
            "Summarized text for M0067.greek:\n",
            "Η αστυνομία της Αϊτής συνέλαβε δέκα Αμερικανούς, πέντε άνδρες και πέντε γυναίκες για δήθεν απαγωγή 33 παιδιών.\n",
            "Η Αϊτινή πάστορας Ζαν Σανμπίλ, που μοιράζεται τα Υπουργεία του Ιησού, τους επέτρεψε να πάρουν τα παιδιά.\n",
            "Η ομάδα NCLR σχεδίαζε να μεταφέρει περίπου 100 παιδιά στη Δομινικανή Δημοκρατία. Η πρόθεση των Βαπτιστών ήταν \"να βρουν μια θεραπεία, ελπίδα, χαρά και μια νέα ζωή στο Χριστό\" για τα Ρωμαιοκαθολικά παιδιά.\n",
            "Τα παιδιά έχουν μεταφερθεί σε ένα χωριό SOS στο Σάντο, βόρεια της πρωτεύουσας. Το προσωπικό είπε ότι τα παιδιά ήταν σε πολύ κακή συναισθηματική κατάσταση.\n",
            "\n",
            "ROUGE scores for M0067.greek:\n",
            "{'rouge1': Score(precision=0.25, recall=0.3333333333333333, fmeasure=0.28571428571428575), 'rouge2': Score(precision=0.0, recall=0.0, fmeasure=0.0), 'rougeL': Score(precision=0.25, recall=0.3333333333333333, fmeasure=0.28571428571428575)}\n",
            "\n",
            "Processing file: M0079.greek\n"
          ]
        },
        {
          "output_type": "stream",
          "name": "stderr",
          "text": [
            "Your max_length is set to 512, but your input_length is only 137. Since this is a summarization task, where outputs shorter than the input are typically wanted, you might consider decreasing max_length manually, e.g. summarizer('...', max_length=68)\n",
            "Your max_length is set to 512, but your input_length is only 202. Since this is a summarization task, where outputs shorter than the input are typically wanted, you might consider decreasing max_length manually, e.g. summarizer('...', max_length=101)\n",
            "Your max_length is set to 512, but your input_length is only 159. Since this is a summarization task, where outputs shorter than the input are typically wanted, you might consider decreasing max_length manually, e.g. summarizer('...', max_length=79)\n"
          ]
        },
        {
          "output_type": "stream",
          "name": "stdout",
          "text": [
            "Summarized text for M0079.greek:\n",
            "Ο πρώην διοικητής του Abu Gribb, ταγματάρχης David Dinena, δήλωσε ότι τον Σεπτέμβριο του 2003 παρευρέθηκε σε συνάντηση με τον Στρατηγό Geoffrey D. Miller. Ταγματάρχης Dinena είπε ότι ο Ταγματάρχης Miller πρότεινε τη χρήση σκύλων, λόγω της αποτελεσματικότητάς τους.\n",
            "Ο αρμόδιος δικαστής του δικαστηρίου, ο Ταγματάρχης Γκλεν Σίμπκινς, έχει δύο εβδομάδες για να μελετήσει τα αποδεικτικά στοιχεία που παρουσιάστηκαν.\n",
            "Ο Μήμος από το 2003 ενημέρωσε το Πεντάγωνο για τις βίαιες τακτικές που ακολουθήθηκαν στο Γκουαντάναμο. Νομοθεσία που προτάθηκε από κάποιους Δημοκρατικούς στη Γερουσία επιχειρεί να θεσπίσει ειδικούς κανόνες για τη μεταχείριση των κρατουμένων.\n",
            "\n",
            "ROUGE scores for M0079.greek:\n",
            "{'rouge1': Score(precision=0.5454545454545454, recall=0.6, fmeasure=0.5714285714285713), 'rouge2': Score(precision=0.3, recall=0.3333333333333333, fmeasure=0.3157894736842105), 'rougeL': Score(precision=0.5454545454545454, recall=0.6, fmeasure=0.5714285714285713)}\n",
            "\n",
            "Processing file: M0093.greek\n"
          ]
        },
        {
          "output_type": "stream",
          "name": "stderr",
          "text": [
            "Your max_length is set to 512, but your input_length is only 135. Since this is a summarization task, where outputs shorter than the input are typically wanted, you might consider decreasing max_length manually, e.g. summarizer('...', max_length=67)\n",
            "Your max_length is set to 512, but your input_length is only 135. Since this is a summarization task, where outputs shorter than the input are typically wanted, you might consider decreasing max_length manually, e.g. summarizer('...', max_length=67)\n",
            "Your max_length is set to 512, but your input_length is only 113. Since this is a summarization task, where outputs shorter than the input are typically wanted, you might consider decreasing max_length manually, e.g. summarizer('...', max_length=56)\n"
          ]
        },
        {
          "output_type": "stream",
          "name": "stdout",
          "text": [
            "Summarized text for M0093.greek:\n",
            "Ολυμπιακή λάμπα στο Σαν Φρανσίσκο της Καλιφόρνιας. Αυτή είναι η μόνη στάση της φλόγας στις Ηνωμένες Πολιτείες, κατά τη διάρκεια του ταξιδιού της σε όλο τον κόσμο, μέχρι να τελειώσει στο Πεκίνο.\n",
            "\"Είναι μια μοναδική ευκαιρία για εμάς να δούμε τη φλόγα,\" είπε στο Σαν Φρανσίσκο Chronicle, Nancy Chan, μια τοπική κάτοικος. \"Είμαι περήφανος που είμαι ένας Κινέζος γιος στη νέα διαδρομή, μόλις ανακοίνωσε,\" δήλωσε ο Xiao Tan, 32.\n",
            "Η Ακτοφυλακή των Ηνωμένων Πολιτειών έχει κάνει περιπολίες στο παράκτιο τμήμα του Σαν Φρανσίσκο. Τα αυστηρά μέτρα ασφαλείας έχουν σχεδιαστεί εκ των προτέρων. \"Εδώ προσπαθούμε να επιτύχουμε δύο στόχους.Ο ένας είναι να προστατεύσουμε το δικαίωμα στην ελευθερία της έκφρασης,\" λέει ο Νέιθαν Μπάλαρντ.\n",
            "\n",
            "ROUGE scores for M0093.greek:\n",
            "{'rouge1': Score(precision=0.0, recall=0.0, fmeasure=0.0), 'rouge2': Score(precision=0.0, recall=0.0, fmeasure=0.0), 'rougeL': Score(precision=0.0, recall=0.0, fmeasure=0.0)}\n",
            "\n"
          ]
        }
      ]
    },
    {
      "cell_type": "code",
      "source": [
        "print(f\"ROUGE scores for {filename}:\\n{scores}\\n\")"
      ],
      "metadata": {
        "id": "iWlgHaKZ-8lr",
        "outputId": "15a264b2-d436-49de-d3c7-df3facb38c9e",
        "colab": {
          "base_uri": "https://localhost:8080/",
          "height": 181
        }
      },
      "execution_count": null,
      "outputs": [
        {
          "output_type": "error",
          "ename": "NameError",
          "evalue": "name 'filename' is not defined",
          "traceback": [
            "\u001b[0;31m---------------------------------------------------------------------------\u001b[0m",
            "\u001b[0;31mNameError\u001b[0m                                 Traceback (most recent call last)",
            "\u001b[0;32m<ipython-input-1-bab48b83fe75>\u001b[0m in \u001b[0;36m<cell line: 1>\u001b[0;34m()\u001b[0m\n\u001b[0;32m----> 1\u001b[0;31m \u001b[0mprint\u001b[0m\u001b[0;34m(\u001b[0m\u001b[0;34mf\"ROUGE scores for {filename}:\\n{scores}\\n\"\u001b[0m\u001b[0;34m)\u001b[0m\u001b[0;34m\u001b[0m\u001b[0;34m\u001b[0m\u001b[0m\n\u001b[0m",
            "\u001b[0;31mNameError\u001b[0m: name 'filename' is not defined"
          ]
        }
      ]
    }
  ]
}